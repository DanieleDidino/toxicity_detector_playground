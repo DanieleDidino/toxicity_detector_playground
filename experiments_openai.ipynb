{
 "cells": [
  {
   "cell_type": "code",
   "execution_count": 8,
   "metadata": {},
   "outputs": [],
   "source": [
    "import environ\n",
    "from openai import OpenAI\n",
    "import openai\n",
    "# from pathlib import Path\n",
    "\n",
    "# Import OpenAI key\n",
    "env = environ.Env()\n",
    "environ.Env.read_env()\n",
    "API_KEY = env(\"OPENAI_API_KEY\")\n",
    "openai.api_key = API_KEY\n",
    "\n",
    "# Set constanst\n",
    "LLM_MODEL = \"gpt-3.5-turbo\"\n",
    "TEMPERATURE = 0"
   ]
  },
  {
   "cell_type": "code",
   "execution_count": 9,
   "metadata": {},
   "outputs": [],
   "source": [
    "system_content = f\"\"\"\n",
    "You are an expert non-violent comunication.\n",
    "Your task is to identify toxic language.\n",
    "Always answer using three labels:\n",
    " - 'neutral': use this category for neutral non-toxic language.\n",
    " - 'toxic': use this category for toxic or violent language.\n",
    " - 'unclear': use this category is you don't know what category select.\n",
    "You must provide me with a label that classify the sentence provided below.\n",
    "\"\"\""
   ]
  },
  {
   "cell_type": "code",
   "execution_count": 10,
   "metadata": {},
   "outputs": [],
   "source": [
    "client_openai = OpenAI()"
   ]
  },
  {
   "cell_type": "code",
   "execution_count": 11,
   "metadata": {},
   "outputs": [
    {
     "name": "stdout",
     "output_type": "stream",
     "text": [
      "ChatCompletionMessage(content='neutral', role='assistant', function_call=None, tool_calls=None)\n",
      "CompletionUsage(completion_tokens=1, prompt_tokens=107, total_tokens=108)\n"
     ]
    }
   ],
   "source": [
    "completion = client_openai.chat.completions.create(\n",
    "  model=LLM_MODEL,\n",
    "  messages=[\n",
    "    {\"role\": \"system\", \"content\": system_content},\n",
    "    {\"role\": \"user\", \"content\": \"Compose a poem that explains the concept of recursion in programming.\"}\n",
    "  ],\n",
    "  temperature=TEMPERATURE,\n",
    ")\n",
    "\n",
    "print(completion.choices[0].message)\n",
    "print(completion.usage)"
   ]
  },
  {
   "cell_type": "code",
   "execution_count": 12,
   "metadata": {},
   "outputs": [],
   "source": [
    "def clf_sentence(client_openai, system_content, user_content, LLM_MODEL, TEMPERATURE):\n",
    "    completion = client_openai.chat.completions.create(\n",
    "        model=LLM_MODEL,\n",
    "        messages=[\n",
    "            {\"role\": \"system\", \"content\": system_content},\n",
    "            {\"role\": \"user\", \"content\": user_content}\n",
    "        ],\n",
    "        temperature=TEMPERATURE,\n",
    "    )\n",
    "\n",
    "    selected_label = completion.choices[0].message.content\n",
    "    used_tokens = {\n",
    "        \"completion_tokens\":completion.usage.completion_tokens,\n",
    "        \"prompt_tokens\":completion.usage.prompt_tokens,\n",
    "        \"total_tokens\":completion.usage.total_tokens\n",
    "    }\n",
    "\n",
    "    return selected_label, used_tokens"
   ]
  },
  {
   "cell_type": "code",
   "execution_count": 13,
   "metadata": {},
   "outputs": [
    {
     "name": "stdout",
     "output_type": "stream",
     "text": [
      "toxic\n",
      "{'completion_tokens': 2, 'prompt_tokens': 103, 'total_tokens': 105}\n"
     ]
    }
   ],
   "source": [
    "label, token_dict = clf_sentence(client_openai, system_content, \"what the fuck are you talking about?\", LLM_MODEL, TEMPERATURE)\n",
    "\n",
    "print(label)\n",
    "print(token_dict)"
   ]
  },
  {
   "cell_type": "code",
   "execution_count": 14,
   "metadata": {},
   "outputs": [],
   "source": [
    "toxic_sentences = [\n",
    "    # Toxic sentences\n",
    "    \"You don't deserve me.\",\n",
    "    \"You're pathetic.\",\n",
    "    \"I hate you.\",\n",
    "    \"You're a bad parent.\",\n",
    "    \"You're being crazy.\",\n",
    "    \"You're so needy\",\n",
    "    # Neutral sentences\n",
    "    \"Oh! That reminds me I have to put my doctor's appointment in my calendar.\",\n",
    "    \"Stop asking if I'm okay. Everything is fine\",\n",
    "    \"These are not the droids you are looking for\"\n",
    "]"
   ]
  },
  {
   "cell_type": "code",
   "execution_count": 15,
   "metadata": {},
   "outputs": [],
   "source": [
    "label_list = []\n",
    "\n",
    "for toxic_sentence in toxic_sentences:\n",
    "    # print(toxic_sentence)\n",
    "    label, _ = clf_sentence(\n",
    "        client_openai,\n",
    "        system_content,\n",
    "        toxic_sentence,\n",
    "        LLM_MODEL,\n",
    "        TEMPERATURE)\n",
    "    # print(label)\n",
    "    label_list.append((toxic_sentence, label))"
   ]
  },
  {
   "cell_type": "code",
   "execution_count": 16,
   "metadata": {},
   "outputs": [
    {
     "data": {
      "text/plain": [
       "[(\"You don't deserve me.\", 'toxic'),\n",
       " (\"You're pathetic.\", 'toxic'),\n",
       " ('I hate you.', 'toxic'),\n",
       " (\"You're a bad parent.\", 'toxic'),\n",
       " (\"You're being crazy.\", 'toxic'),\n",
       " (\"You're so needy\", 'toxic'),\n",
       " (\"Oh! That reminds me I have to put my doctor's appointment in my calendar.\",\n",
       "  'neutral'),\n",
       " (\"Stop asking if I'm okay. Everything is fine\", 'neutral'),\n",
       " ('These are not the droids you are looking for', 'neutral')]"
      ]
     },
     "execution_count": 16,
     "metadata": {},
     "output_type": "execute_result"
    }
   ],
   "source": [
    "label_list"
   ]
  },
  {
   "cell_type": "code",
   "execution_count": 19,
   "metadata": {},
   "outputs": [
    {
     "data": {
      "text/plain": [
       "13"
      ]
     },
     "execution_count": 19,
     "metadata": {},
     "output_type": "execute_result"
    }
   ],
   "source": [
    "a = 11\n",
    "a += 2\n",
    "a"
   ]
  }
 ],
 "metadata": {
  "kernelspec": {
   "display_name": ".venv_dialogue_ai",
   "language": "python",
   "name": "python3"
  },
  "language_info": {
   "codemirror_mode": {
    "name": "ipython",
    "version": 3
   },
   "file_extension": ".py",
   "mimetype": "text/x-python",
   "name": "python",
   "nbconvert_exporter": "python",
   "pygments_lexer": "ipython3",
   "version": "3.10.12"
  }
 },
 "nbformat": 4,
 "nbformat_minor": 2
}
